{
 "cells": [
  {
   "cell_type": "code",
   "execution_count": 17,
   "id": "54bfd5a3-2a19-42c6-a13d-23be59240967",
   "metadata": {},
   "outputs": [],
   "source": [
    "import collections\n",
    "import os\n",
    "import logging\n",
    "#import asyncio\n",
    "from apscheduler.schedulers.asyncio import AsyncIOScheduler\n",
    "from apscheduler.triggers.interval import IntervalTrigger\n",
    "from apscheduler.executors.asyncio import AsyncIOExecutor\n",
    "from datetime import datetime\n",
    "import time\n",
    "from uuid import  uuid4"
   ]
  },
  {
   "cell_type": "code",
   "execution_count": 18,
   "id": "8572741a-5f30-4130-a10d-9c96f1c872af",
   "metadata": {},
   "outputs": [],
   "source": [
    "def tick():\n",
    "    print('Tick! The time is: %s' % datetime.now())    "
   ]
  },
  {
   "cell_type": "code",
   "execution_count": 19,
   "id": "20ef162a-6cf0-4c2a-a60b-de954c7cd15a",
   "metadata": {},
   "outputs": [
    {
     "name": "stdout",
     "output_type": "stream",
     "text": [
      "working\n"
     ]
    }
   ],
   "source": [
    "print(\"working\")\n",
    "scheduler = AsyncIOScheduler()"
   ]
  },
  {
   "cell_type": "code",
   "execution_count": 20,
   "id": "949e8156-5d39-469b-8722-3b605190113b",
   "metadata": {},
   "outputs": [],
   "source": [
    "scheduler = AsyncIOScheduler()\n",
    "user = \"scheduler-trading-2022\"\n",
    "password = \"sch3dul3r-tr4d1ng-2022\" \n",
    "scheduler.add_jobstore(\"mongodb\",collection=\"test-collection\",username=user, password=password, host=\"mongodb\")\n",
    "\n"
   ]
  },
  {
   "cell_type": "code",
   "execution_count": 6,
   "id": "61fe51cc-81f7-48c5-a759-3e60e5ecfa65",
   "metadata": {},
   "outputs": [
    {
     "data": {
      "text/plain": [
       "<Job (id=65542fb50ec744bca2c07c9351e4c599 name=tick)>"
      ]
     },
     "execution_count": 6,
     "metadata": {},
     "output_type": "execute_result"
    },
    {
     "name": "stdout",
     "output_type": "stream",
     "text": [
      "Tick! The time is: 2022-05-23 20:46:53.092136\n",
      "Tick! The time is: 2022-05-23 20:46:55.892228\n",
      "Tick! The time is: 2022-05-23 20:47:03.071682\n",
      "Tick! The time is: 2022-05-23 20:47:05.889749\n",
      "Tick! The time is: 2022-05-23 20:47:13.080757\n",
      "Tick! The time is: 2022-05-23 20:47:15.889346\n",
      "Tick! The time is: 2022-05-23 20:47:23.080711\n",
      "Tick! The time is: 2022-05-23 20:47:25.890859\n",
      "Tick! The time is: 2022-05-23 20:47:33.076349\n",
      "Tick! The time is: 2022-05-23 20:47:35.887478\n",
      "Tick! The time is: 2022-05-23 20:47:43.078507\n",
      "Tick! The time is: 2022-05-23 20:47:45.888577\n",
      "Tick! The time is: 2022-05-23 20:47:53.076381\n",
      "Tick! The time is: 2022-05-23 20:47:55.887204\n",
      "Tick! The time is: 2022-05-23 20:48:03.077580\n",
      "Tick! The time is: 2022-05-23 20:48:05.891789\n",
      "Tick! The time is: 2022-05-23 20:48:13.079123\n",
      "Tick! The time is: 2022-05-23 20:48:15.885703\n"
     ]
    }
   ],
   "source": [
    "scheduler.start()\n",
    "scheduler.add_job(tick, 'interval', seconds=10, replace_existing = True)"
   ]
  },
  {
   "cell_type": "code",
   "execution_count": 25,
   "id": "d9d323cb-c0ce-4be3-985d-7733adb4b349",
   "metadata": {},
   "outputs": [
    {
     "data": {
      "text/plain": [
       "<Job (id=eda72a4e-cb2e-474e-8680-5dba8914d6f1 name=tick-interval-20)>"
      ]
     },
     "execution_count": 25,
     "metadata": {},
     "output_type": "execute_result"
    },
    {
     "name": "stdout",
     "output_type": "stream",
     "text": [
      "Tick! The time is: 2022-05-09 02:13:30.091911\n"
     ]
    }
   ],
   "source": [
    "scheduler.add_job(tick, 'interval', seconds=20, name=\"tick-interval-20\",replace_existing = True,id=str(\"eda72a4e-cb2e-474e-8680-5dba8914d6f1\"))"
   ]
  },
  {
   "cell_type": "code",
   "execution_count": 7,
   "id": "adbee94a-f68a-462e-838b-909c4f9d7b76",
   "metadata": {},
   "outputs": [
    {
     "data": {
      "text/plain": [
       "<Job (id=6329c16089fd41478740142adb64d5a2 name=tick)>"
      ]
     },
     "execution_count": 7,
     "metadata": {},
     "output_type": "execute_result"
    }
   ],
   "source": [
    "scheduler.add_job(tick, 'interval', seconds=6, replace_existing = True)"
   ]
  },
  {
   "cell_type": "code",
   "execution_count": 25,
   "id": "748fff46-861f-4bc4-9938-6a55b26923c5",
   "metadata": {},
   "outputs": [
    {
     "data": {
      "text/plain": [
       "[]"
      ]
     },
     "execution_count": 25,
     "metadata": {},
     "output_type": "execute_result"
    }
   ],
   "source": [
    "jobs = scheduler.get_jobs()\n",
    "#job = scheduler.get_job(\"5bbc71a406b24062a5093d8b5976e3a3\")\n",
    "jobs"
   ]
  },
  {
   "cell_type": "code",
   "execution_count": 186,
   "id": "01a04664-7e2a-411c-8362-a75d6a9f96f1",
   "metadata": {},
   "outputs": [],
   "source": [
    "scheduler.remove_job(\"1b72b38c80b64e2e934d840cede5c252\")"
   ]
  },
  {
   "cell_type": "code",
   "execution_count": 30,
   "id": "f8a99af4-2bf5-4ab7-baf3-008d64095e58",
   "metadata": {},
   "outputs": [],
   "source": [
    "scheduler.remove_all_jobs()"
   ]
  },
  {
   "cell_type": "code",
   "execution_count": 37,
   "id": "cf799db5-6230-44ab-a29b-02ea548e26b0",
   "metadata": {},
   "outputs": [
    {
     "data": {
      "text/plain": [
       "True"
      ]
     },
     "execution_count": 37,
     "metadata": {},
     "output_type": "execute_result"
    }
   ],
   "source": [
    "scheduler.running"
   ]
  },
  {
   "cell_type": "code",
   "execution_count": 164,
   "id": "64dce0df-8765-4bf7-a9b3-54406a4d7a61",
   "metadata": {},
   "outputs": [
    {
     "name": "stdout",
     "output_type": "stream",
     "text": [
      "Press Ctrl+C to exit\n"
     ]
    }
   ],
   "source": [
    "print('Press Ctrl+{0} to exit'.format('Break' if os.name == 'nt' else 'C'))\n"
   ]
  },
  {
   "cell_type": "code",
   "execution_count": 35,
   "id": "11044fbb-15b2-4e68-b86e-802979f8596e",
   "metadata": {},
   "outputs": [],
   "source": [
    "scheduler.pause()"
   ]
  },
  {
   "cell_type": "code",
   "execution_count": 34,
   "id": "6a2df4ca-c784-48d8-84fe-2d4cdf3f0756",
   "metadata": {},
   "outputs": [],
   "source": [
    "scheduler.resume()"
   ]
  },
  {
   "cell_type": "code",
   "execution_count": 13,
   "id": "580a3884-4631-4f0b-b3c9-715caa12a1d0",
   "metadata": {},
   "outputs": [],
   "source": [
    "scheduler.shutdown()"
   ]
  },
  {
   "cell_type": "code",
   "execution_count": 33,
   "id": "4cb4d544-23a7-4d14-9c87-9f3a1ebbfff6",
   "metadata": {},
   "outputs": [
    {
     "ename": "SchedulerAlreadyRunningError",
     "evalue": "Scheduler is already running",
     "output_type": "error",
     "traceback": [
      "\u001b[0;31m---------------------------------------------------------------------------\u001b[0m",
      "\u001b[0;31mSchedulerAlreadyRunningError\u001b[0m              Traceback (most recent call last)",
      "Input \u001b[0;32mIn [33]\u001b[0m, in \u001b[0;36m<cell line: 1>\u001b[0;34m()\u001b[0m\n\u001b[0;32m----> 1\u001b[0m \u001b[43mscheduler\u001b[49m\u001b[38;5;241;43m.\u001b[39;49m\u001b[43mstart\u001b[49m\u001b[43m(\u001b[49m\u001b[43m)\u001b[49m\n",
      "File \u001b[0;32m/opt/conda/lib/python3.9/site-packages/apscheduler/schedulers/asyncio.py:45\u001b[0m, in \u001b[0;36mAsyncIOScheduler.start\u001b[0;34m(self, paused)\u001b[0m\n\u001b[1;32m     42\u001b[0m \u001b[38;5;28;01mif\u001b[39;00m \u001b[38;5;129;01mnot\u001b[39;00m \u001b[38;5;28mself\u001b[39m\u001b[38;5;241m.\u001b[39m_eventloop:\n\u001b[1;32m     43\u001b[0m     \u001b[38;5;28mself\u001b[39m\u001b[38;5;241m.\u001b[39m_eventloop \u001b[38;5;241m=\u001b[39m asyncio\u001b[38;5;241m.\u001b[39mget_event_loop()\n\u001b[0;32m---> 45\u001b[0m \u001b[38;5;28;43msuper\u001b[39;49m\u001b[43m(\u001b[49m\u001b[43mAsyncIOScheduler\u001b[49m\u001b[43m,\u001b[49m\u001b[43m \u001b[49m\u001b[38;5;28;43mself\u001b[39;49m\u001b[43m)\u001b[49m\u001b[38;5;241;43m.\u001b[39;49m\u001b[43mstart\u001b[49m\u001b[43m(\u001b[49m\u001b[43mpaused\u001b[49m\u001b[43m)\u001b[49m\n",
      "File \u001b[0;32m/opt/conda/lib/python3.9/site-packages/apscheduler/schedulers/base.py:143\u001b[0m, in \u001b[0;36mBaseScheduler.start\u001b[0;34m(self, paused)\u001b[0m\n\u001b[1;32m    134\u001b[0m \u001b[38;5;124;03m\"\"\"\u001b[39;00m\n\u001b[1;32m    135\u001b[0m \u001b[38;5;124;03mStart the configured executors and job stores and begin processing scheduled jobs.\u001b[39;00m\n\u001b[1;32m    136\u001b[0m \n\u001b[0;32m   (...)\u001b[0m\n\u001b[1;32m    140\u001b[0m \n\u001b[1;32m    141\u001b[0m \u001b[38;5;124;03m\"\"\"\u001b[39;00m\n\u001b[1;32m    142\u001b[0m \u001b[38;5;28;01mif\u001b[39;00m \u001b[38;5;28mself\u001b[39m\u001b[38;5;241m.\u001b[39mstate \u001b[38;5;241m!=\u001b[39m STATE_STOPPED:\n\u001b[0;32m--> 143\u001b[0m     \u001b[38;5;28;01mraise\u001b[39;00m SchedulerAlreadyRunningError\n\u001b[1;32m    145\u001b[0m \u001b[38;5;28mself\u001b[39m\u001b[38;5;241m.\u001b[39m_check_uwsgi()\n\u001b[1;32m    147\u001b[0m \u001b[38;5;28;01mwith\u001b[39;00m \u001b[38;5;28mself\u001b[39m\u001b[38;5;241m.\u001b[39m_executors_lock:\n\u001b[1;32m    148\u001b[0m     \u001b[38;5;66;03m# Create a default executor if nothing else is configured\u001b[39;00m\n",
      "\u001b[0;31mSchedulerAlreadyRunningError\u001b[0m: Scheduler is already running"
     ]
    }
   ],
   "source": [
    "scheduler.start()"
   ]
  },
  {
   "cell_type": "code",
   "execution_count": 38,
   "id": "e6096725-bd34-4172-9c60-5bbb9868c436",
   "metadata": {},
   "outputs": [
    {
     "name": "stdout",
     "output_type": "stream",
     "text": [
      "Jobstore default:\n",
      "    No scheduled jobs\n"
     ]
    }
   ],
   "source": [
    "scheduler.print_jobs()"
   ]
  },
  {
   "cell_type": "code",
   "execution_count": null,
   "id": "982066c0-fe9b-46db-b51f-1edd59d39b72",
   "metadata": {},
   "outputs": [],
   "source": []
  }
 ],
 "metadata": {
  "kernelspec": {
   "display_name": "Python 3 (ipykernel)",
   "language": "python",
   "name": "python3"
  },
  "language_info": {
   "codemirror_mode": {
    "name": "ipython",
    "version": 3
   },
   "file_extension": ".py",
   "mimetype": "text/x-python",
   "name": "python",
   "nbconvert_exporter": "python",
   "pygments_lexer": "ipython3",
   "version": "3.9.12"
  }
 },
 "nbformat": 4,
 "nbformat_minor": 5
}

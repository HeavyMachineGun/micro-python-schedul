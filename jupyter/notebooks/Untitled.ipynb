{
 "cells": [
  {
   "cell_type": "code",
   "execution_count": 7,
   "id": "0d11d163-4f63-48c6-91ec-c68b1bab85f2",
   "metadata": {},
   "outputs": [],
   "source": [
    "from models.configuration import Configuration\n",
    "from uuid import UUID, uuid4"
   ]
  },
  {
   "cell_type": "code",
   "execution_count": 4,
   "id": "ceaa85e5-e906-43ad-91ec-b8204bbfef5d",
   "metadata": {},
   "outputs": [],
   "source": [
    "config = Configuration(name = \"test\",job_id = \"job_id\",cron_expression = \"\",task_name=\"name\")"
   ]
  },
  {
   "cell_type": "code",
   "execution_count": 5,
   "id": "92d08cfd-7344-4f01-8cd2-3789b9d590a7",
   "metadata": {},
   "outputs": [
    {
     "data": {
      "text/plain": [
       "Configuration(id=UUID('63a26342-72bc-4550-a4ae-51e0cafc040f'), name='test', job_id='job_id', cron_expression='', task_name='name')"
      ]
     },
     "execution_count": 5,
     "metadata": {},
     "output_type": "execute_result"
    }
   ],
   "source": [
    "config"
   ]
  },
  {
   "cell_type": "code",
   "execution_count": 12,
   "id": "d1c1fb8f-c8bc-4518-b675-fe4f77e89a9a",
   "metadata": {},
   "outputs": [
    {
     "data": {
      "text/plain": [
       "'e0cadbae-1a7b-453d-8e59-1ced783c6579'"
      ]
     },
     "execution_count": 12,
     "metadata": {},
     "output_type": "execute_result"
    }
   ],
   "source": [
    "uuid = uuid4()\n",
    "str(uuid)"
   ]
  },
  {
   "cell_type": "code",
   "execution_count": 10,
   "id": "9b88331b-630a-4e25-8da9-53762e256b6e",
   "metadata": {},
   "outputs": [],
   "source": [
    "config = Configuration(id =\"ed978d63-e876-4a86-9c18-39d2df72d271\",name = \"test\",job_id = \"job_id\",cron_expression = \"\",task_name=\"name\")"
   ]
  },
  {
   "cell_type": "code",
   "execution_count": 11,
   "id": "43203202-9de9-44f4-bab9-72aa90262c1c",
   "metadata": {},
   "outputs": [
    {
     "data": {
      "text/plain": [
       "Configuration(id=UUID('ed978d63-e876-4a86-9c18-39d2df72d271'), name='test', job_id='job_id', cron_expression='', task_name='name')"
      ]
     },
     "execution_count": 11,
     "metadata": {},
     "output_type": "execute_result"
    }
   ],
   "source": [
    "config"
   ]
  },
  {
   "cell_type": "code",
   "execution_count": null,
   "id": "dda4f8ea-8ad9-47f5-b542-73d7a409bb54",
   "metadata": {},
   "outputs": [],
   "source": []
  }
 ],
 "metadata": {
  "kernelspec": {
   "display_name": "Python 3 (ipykernel)",
   "language": "python",
   "name": "python3"
  },
  "language_info": {
   "codemirror_mode": {
    "name": "ipython",
    "version": 3
   },
   "file_extension": ".py",
   "mimetype": "text/x-python",
   "name": "python",
   "nbconvert_exporter": "python",
   "pygments_lexer": "ipython3",
   "version": "3.9.12"
  }
 },
 "nbformat": 4,
 "nbformat_minor": 5
}
